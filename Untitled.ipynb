{
 "cells": [
  {
   "cell_type": "code",
   "execution_count": 54,
   "metadata": {
    "collapsed": true
   },
   "outputs": [],
   "source": [
    "import pandas as pd\n",
    "import numpy as np"
   ]
  },
  {
   "cell_type": "code",
   "execution_count": 22,
   "metadata": {
    "collapsed": true
   },
   "outputs": [],
   "source": [
    "x_current = pd.read_csv('data/gdp_diff.csv', index_col=0)[1:19] # gdp deviation of 1993 - 2010\n",
    "pi_next_expected = pd.read_csv('data/inf_e.csv', index_col=0)[:18] # prediction for 1994 - 2011, so current should be 1993 - 2010\n",
    "pi = pd.read_csv('data/inf.csv', index_col=0)\n",
    "pi_current = pi[1:19] # inflation of 1993 - 2010\n",
    "pi_previous = pi[:18] # inflation of 1992 - 2009"
   ]
  },
  {
   "cell_type": "code",
   "execution_count": 27,
   "metadata": {},
   "outputs": [],
   "source": [
    "pi_next_expected.index = range(1993, 2011)"
   ]
  },
  {
   "cell_type": "code",
   "execution_count": 30,
   "metadata": {},
   "outputs": [],
   "source": [
    "pi_previous.index = range(1993, 2011)"
   ]
  },
  {
   "cell_type": "code",
   "execution_count": 37,
   "metadata": {},
   "outputs": [],
   "source": [
    "W = [pd.read_csv('data/W{}.csv'.format(i), index_col=0) for i in range(1993, 2011)]"
   ]
  },
  {
   "cell_type": "code",
   "execution_count": 69,
   "metadata": {},
   "outputs": [],
   "source": [
    "ret = []\n",
    "for variable in [x_current, pi_current, pi_next_expected, pi_previous]:\n",
    "    ret.append(variable * 0 + np.array([(W[i].values @ variable.iloc[i,:].values.T) for i in range(18)]))\n",
    "    \n",
    "W_x_current = ret[0]\n",
    "W_pi_current = ret[1]\n",
    "W_pi_next_expected = ret[2]\n",
    "W_pi_previous = ret[3]"
   ]
  },
  {
   "cell_type": "code",
   "execution_count": 74,
   "metadata": {},
   "outputs": [],
   "source": [
    "x_current.unstack().to_csv('data/variables/x_current.csv')\n",
    "W_x_current.unstack().to_csv('data/variables/W_x_current.csv')\n",
    "pi_current.unstack().to_csv('data/variables/pi_current.csv')\n",
    "W_pi_current.unstack().to_csv('data/variables/W_pi_current.csv')\n",
    "pi_previous.unstack().to_csv('data/variables/pi_previous.csv')\n",
    "W_pi_previous.unstack().to_csv('data/variables/W_pi_previous.csv')\n",
    "pi_next_expected.unstack().to_csv('data/variables/pi_next_expected.csv')\n",
    "W_pi_next_expected.unstack().to_csv('data/variables/W_pi_next_expected.csv')"
   ]
  },
  {
   "cell_type": "code",
   "execution_count": null,
   "metadata": {
    "collapsed": true
   },
   "outputs": [],
   "source": []
  }
 ],
 "metadata": {
  "kernelspec": {
   "display_name": "Python 3",
   "language": "python",
   "name": "python3"
  },
  "language_info": {
   "codemirror_mode": {
    "name": "ipython",
    "version": 3
   },
   "file_extension": ".py",
   "mimetype": "text/x-python",
   "name": "python",
   "nbconvert_exporter": "python",
   "pygments_lexer": "ipython3",
   "version": "3.6.3"
  }
 },
 "nbformat": 4,
 "nbformat_minor": 2
}
