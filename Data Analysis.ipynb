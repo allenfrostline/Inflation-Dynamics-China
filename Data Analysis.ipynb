{
 "cells": [
  {
   "cell_type": "code",
   "execution_count": 2,
   "metadata": {
    "collapsed": true
   },
   "outputs": [],
   "source": [
    "# TO-DO: \n",
    "# 1. Read the csv\n",
    "# 2. Plot the traces\n",
    "# 3. Plot the heatmaps\n",
    "# 4. Analysis."
   ]
  },
  {
   "cell_type": "code",
   "execution_count": 12,
   "metadata": {
    "collapsed": true
   },
   "outputs": [],
   "source": [
    "%config InlineBackend.figure_format = 'retina'\n",
    "% matplotlib inline\n",
    "\n",
    "import numpy as np\n",
    "import pandas as pd\n",
    "import matplotlib.pyplot as plt\n",
    "import matplotlib.colors as clr\n",
    "\n",
    "np.random.seed(222)\n",
    "pd.set_option('display.max_columns', None)\n",
    "plt.style.use('seaborn-paper')"
   ]
  },
  {
   "cell_type": "code",
   "execution_count": 13,
   "metadata": {
    "collapsed": true
   },
   "outputs": [
    {
     "name": "stdout",
     "output_type": "stream",
     "text": [
      "              Year         Pop   UnempRate           GDP         CPI  \\\ncount   620.000000  620.000000  602.000000    620.000000  610.000000   \nmean   2001.500000   40.866226    3.411794   5606.592258  105.045574   \nstd       5.770937   26.609978    1.002963   7316.021648    6.680100   \nmin    1992.000000    2.290000    0.300000     33.300000   96.400000   \n25%    1996.750000   20.837500    2.800000   1264.075000  100.600000   \n50%    2001.500000   37.325000    3.500000   3043.200000  103.100000   \n75%    2006.250000   61.580000    4.000000   6933.350000  106.275000   \nmax    2011.000000  105.050000    7.400000  53210.300000  126.900000   \n\n       RailToBeijing  RailToShanxi  RailToLiaoning  RailToJilin  \\\ncount     616.000000    617.000000      618.000000   617.000000   \nmean      170.813312    201.133096      664.365534   237.695300   \nstd       372.244097    578.928549     1927.143292   604.994001   \nmin         0.000000      0.000000        0.000000     0.000000   \n25%        13.000000     18.000000       18.000000     6.000000   \n50%        29.000000     45.000000       43.500000    18.000000   \n75%       124.250000    121.000000      150.750000    55.000000   \nmax      1791.000000   4402.000000    13115.000000  3658.000000   \n\n       RailToShanghai  RailToZhejiang  RailToFujian  RailToJiangxi  \\\ncount      616.000000      615.000000    617.000000     618.000000   \nmean        76.038961      182.783740    112.076175     165.231392   \nstd         78.635674      275.346108    281.430712     336.011856   \nmin          0.000000        0.000000      0.000000       0.000000   \n25%         23.000000       36.500000     14.000000      15.000000   \n50%         49.500000       86.000000     32.000000      59.000000   \n75%        108.250000      195.000000     95.000000     157.000000   \nmax        493.000000     2313.000000   1991.000000    2745.000000   \n\n       RailToHenan  RailToHunan  RailToGuangdong  RailToGuangxi  RailToHainan  \\\ncount   618.000000   618.000000       617.000000     617.000000    612.000000   \nmean    261.009709   207.477346       216.319287     174.294976     10.205882   \nstd     542.893932   383.276229       325.036557     360.963102     58.802341   \nmin       0.000000     0.000000         0.000000       0.000000      0.000000   \n25%      42.250000    27.250000        38.000000      14.000000      0.000000   \n50%      87.000000    69.000000        88.000000      36.000000      0.000000   \n75%     213.000000   166.750000       229.000000     152.000000      1.000000   \nmax    3950.000000  2608.000000      1745.000000    2841.000000    625.000000   \n\n       RailToChongqing  RailToSichuan  RailToGuizhou  RailToYunnan  \\\ncount       617.000000     618.000000     616.000000    617.000000   \nmean         58.844408     268.354369      93.615260    114.764992   \nstd         131.030860     666.325869     223.961603    279.282734   \nmin           0.000000       0.000000       0.000000      0.000000   \n25%           0.000000      51.000000       8.000000     13.000000   \n50%          21.000000     103.000000      20.000000     32.000000   \n75%          50.000000     230.250000      61.000000     67.000000   \nmax         898.000000    4706.000000    1789.000000   2129.000000   \n\n       RailToTibet  RailToShaanxi  RailToGansu  RailToQinghai  RailToNingxia  \\\ncount   613.000000     618.000000   618.000000     617.000000     616.000000   \nmean      1.417618     119.030744   150.076052      34.538088      35.574675   \nstd       7.036679     279.617539   373.282360      99.173429      99.701412   \nmin       0.000000       0.000000     0.000000       0.000000       0.000000   \n25%       0.000000      21.000000    12.000000       4.000000       3.000000   \n50%       0.000000      49.000000    30.000000       9.000000       8.000000   \n75%       0.000000     101.750000    76.750000      25.000000      21.000000   \nmax     101.000000    2731.000000  2742.000000    1517.000000     778.000000   \n\n         Rail_Total  \ncount    620.000000  \nmean    6657.541161  \nstd     8057.297182  \nmin        0.000000  \n25%     2415.250000  \n50%     4441.500000  \n75%     7585.500000  \nmax    66171.000000  \n"
     ]
    }
   ],
   "source": [
    "data = pd.read_csv(\"./data/Dataset_1992-2011.csv\", sep=\";\", skipinitialspace=True)\n",
    "print(data.describe())  # sample check"
   ]
  },
  {
   "cell_type": "code",
   "execution_count": 14,
   "metadata": {},
   "outputs": [
    {
     "data": {
      "text/plain": [
       "array([[<matplotlib.axes._subplots.AxesSubplot object at 0x000001E6F9A47518>]], dtype=object)"
      ]
     },
     "execution_count": 14,
     "metadata": {},
     "output_type": "execute_result"
    },
    {
     "data": {
      "image/png": "[encoded data removed]",
      "text/plain": [
       "<matplotlib.figure.Figure at 0x1e6f9a4f9b0>"
      ]
     },
     "metadata": {},
     "output_type": "display_data"
    }
   ],
   "source": [
    "(data[[\"CPI\"]] - 100).hist()  # Y-on-y inflation rates"
   ]
  },
  {
   "cell_type": "code",
   "execution_count": null,
   "metadata": {},
   "outputs": [],
   "source": [
    ""
   ]
  }
 ],
 "metadata": {
  "kernelspec": {
   "display_name": "Python 3",
   "language": "python",
   "name": "python3"
  },
  "language_info": {
   "codemirror_mode": {
    "name": "ipython",
    "version": 3.0
   },
   "file_extension": ".py",
   "mimetype": "text/x-python",
   "name": "python",
   "nbconvert_exporter": "python",
   "pygments_lexer": "ipython3",
   "version": "3.6.0"
  }
 },
 "nbformat": 4,
 "nbformat_minor": 0
}