{
 "cells": [
  {
   "cell_type": "code",
   "execution_count": 1,
   "metadata": {
    "collapsed": true
   },
   "outputs": [],
   "source": [
    "import pandas as pd\n",
    "import numpy as np"
   ]
  },
  {
   "cell_type": "code",
   "execution_count": 2,
   "metadata": {
    "collapsed": true
   },
   "outputs": [],
   "source": [
    "x_current = pd.read_csv('data/gdp_diff.csv', index_col=0)[1:19] # gdp deviation of 1993 - 2010\n",
    "pi_next_expected = pd.read_csv('data/inf_e.csv', index_col=0)[:18] # prediction for 1994 - 2011, so current should be 1993 - 2010\n",
    "pi = pd.read_csv('data/inf.csv', index_col=0)\n",
    "pi_current = pi[1:19] # inflation of 1993 - 2010\n",
    "pi_previous = pi[:18] # inflation of 1992 - 2009"
   ]
  },
  {
   "cell_type": "code",
   "execution_count": 3,
   "metadata": {
    "collapsed": true
   },
   "outputs": [],
   "source": [
    "pi_next_expected.index = range(1993, 2011)"
   ]
  },
  {
   "cell_type": "code",
   "execution_count": 4,
   "metadata": {
    "collapsed": true
   },
   "outputs": [],
   "source": [
    "pi_previous.index = range(1993, 2011)"
   ]
  },
  {
   "cell_type": "code",
   "execution_count": 5,
   "metadata": {
    "collapsed": true
   },
   "outputs": [],
   "source": [
    "W = [pd.read_csv('data/W{}.csv'.format(i), index_col=0).values for i in range(1993, 2011)]\n",
    "Delta = [np.eye(29) - w for w in W]"
   ]
  },
  {
   "cell_type": "code",
   "execution_count": 6,
   "metadata": {
    "collapsed": true
   },
   "outputs": [],
   "source": [
    "ret = []\n",
    "for variable in [x_current, pi_current, pi_next_expected, pi_previous]:\n",
    "    ret.append(variable * 0 + np.array([(Delta[i] @ variable.iloc[i,:].values.T) for i in range(18)]))\n",
    "    \n",
    "new_x_current = ret[0]\n",
    "new_pi_current = ret[1]\n",
    "new_pi_next_expected = ret[2]\n",
    "new_pi_previous = ret[3]"
   ]
  },
  {
   "cell_type": "code",
   "execution_count": 9,
   "metadata": {
    "collapsed": true
   },
   "outputs": [],
   "source": [
    "x_current.unstack().to_csv('data/variables/x_current.csv')\n",
    "new_x_current.unstack().to_csv('data/variables/new_x_current.csv')\n",
    "pi_current.unstack().to_csv('data/variables/pi_current.csv')\n",
    "new_pi_current.unstack().to_csv('data/variables/new_pi_current.csv')\n",
    "pi_previous.unstack().to_csv('data/variables/pi_previous.csv')\n",
    "new_pi_previous.unstack().to_csv('data/variables/new_pi_previous.csv')\n",
    "pi_next_expected.unstack().to_csv('data/variables/pi_next_expected.csv')\n",
    "new_pi_next_expected.unstack().to_csv('data/variables/new_pi_next_expected.csv')"
   ]
  },
  {
   "cell_type": "code",
   "execution_count": 21,
   "metadata": {},
   "outputs": [
    {
     "name": "stdout",
     "output_type": "stream",
     "text": [
      "            pi_current  pi_next_exp  pi_previous  x_current  new_pi_current  \\\n",
      "Anhui 1993        14.7          8.2          8.2  14.136330      -16.144727   \n",
      "      1994        26.9         14.7         14.7   2.336029      -17.632440   \n",
      "      1995        14.8         27.7         26.9  10.119298      -16.587599   \n",
      "      1996         9.9         51.3         14.8   4.867598       -4.878175   \n",
      "      1997         1.3         -9.4          9.9   5.256502       -4.172184   \n",
      "\n",
      "            new_pi_next_exp  new_pi_previous  new_x_current  \n",
      "Anhui 1993        -5.613614        -5.613614     -17.227184  \n",
      "      1994       -17.253160       -17.253160     -18.091042  \n",
      "      1995       -38.737956       -16.910098      -1.626678  \n",
      "      1996       -14.487393       -15.042178      -2.053501  \n",
      "      1997       -15.138458        -5.355987       2.038251  \n"
     ]
    }
   ],
   "source": [
    "df = pd.concat([pi_current.unstack(), pi_next_expected.unstack(), pi_previous.unstack(), x_current.unstack(), \n",
    "                new_pi_current.unstack(), new_pi_next_expected.unstack(), new_pi_previous.unstack(), new_x_current.unstack()], axis=1)\n",
    "df.columns = ['pi_current', 'pi_next_exp', 'pi_previous', 'x_current',\n",
    "              'new_pi_current', 'new_pi_next_exp', 'new_pi_previous', 'new_x_current']\n",
    "print(df.head())\n",
    "df.to_csv('data/variables/data.csv')"
   ]
  },
  {
   "cell_type": "code",
   "execution_count": null,
   "metadata": {
    "collapsed": true
   },
   "outputs": [],
   "source": []
  }
 ],
 "metadata": {
  "kernelspec": {
   "display_name": "Python 3",
   "language": "python",
   "name": "python3"
  },
  "language_info": {
   "codemirror_mode": {
    "name": "ipython",
    "version": 3
   },
   "file_extension": ".py",
   "mimetype": "text/x-python",
   "name": "python",
   "nbconvert_exporter": "python",
   "pygments_lexer": "ipython3",
   "version": "3.6.3"
  }
 },
 "nbformat": 4,
 "nbformat_minor": 2
}
