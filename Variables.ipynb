{
 "cells": [
  {
   "cell_type": "code",
   "execution_count": 15,
   "metadata": {
    "collapsed": true
   },
   "outputs": [],
   "source": [
    "import pandas as pd\n",
    "import numpy as np"
   ]
  },
  {
   "cell_type": "code",
   "execution_count": 16,
   "metadata": {},
   "outputs": [],
   "source": [
    "x = pd.read_csv('data/gdp_diff.csv', index_col=0)\n",
    "pi = pd.read_csv('data/inf.csv', index_col=0)"
   ]
  },
  {
   "cell_type": "code",
   "execution_count": 17,
   "metadata": {
    "collapsed": true
   },
   "outputs": [],
   "source": [
    "W = [pd.read_csv('data/W{}.csv'.format(i), index_col=0).values for i in range(1992, 2012)]\n",
    "Delta = [np.eye(29) - w for w in W]"
   ]
  },
  {
   "cell_type": "code",
   "execution_count": 18,
   "metadata": {},
   "outputs": [],
   "source": [
    "ret = []\n",
    "for variable in [x, pi]:\n",
    "    ret.append(variable * 0 + np.array([(Delta[i] @ variable.iloc[i,:].values.T) for i in range(20)]))\n",
    "    \n",
    "new_x = ret[0]\n",
    "new_pi = ret[1]"
   ]
  },
  {
   "cell_type": "code",
   "execution_count": 19,
   "metadata": {},
   "outputs": [
    {
     "name": "stdout",
     "output_type": "stream",
     "text": [
      "              pi          x     new_pi      new_x\n",
      "Anhui 1992   8.2  14.636467  -5.172626 -22.855924\n",
      "      1993  14.7  14.136330 -16.144727 -17.227184\n",
      "      1994  26.9   2.336029 -17.632440 -18.091042\n",
      "      1995  14.8  10.119298 -16.587599  -1.626678\n",
      "      1996   9.9   4.867598  -4.878175  -2.053501\n"
     ]
    }
   ],
   "source": [
    "df = pd.concat([pi.unstack(), x.unstack(), new_pi.unstack(), new_x.unstack()], axis=1)\n",
    "df.columns = ['pi', 'x', 'new_pi', 'new_x']\n",
    "print(df.head())\n",
    "df.to_csv('data/data.csv')"
   ]
  },
  {
   "cell_type": "code",
   "execution_count": null,
   "metadata": {
    "collapsed": true
   },
   "outputs": [],
   "source": []
  }
 ],
 "metadata": {
  "kernelspec": {
   "display_name": "Python 3",
   "language": "python",
   "name": "python3"
  },
  "language_info": {
   "codemirror_mode": {
    "name": "ipython",
    "version": 3
   },
   "file_extension": ".py",
   "mimetype": "text/x-python",
   "name": "python",
   "nbconvert_exporter": "python",
   "pygments_lexer": "ipython3",
   "version": "3.6.3"
  }
 },
 "nbformat": 4,
 "nbformat_minor": 2
}
